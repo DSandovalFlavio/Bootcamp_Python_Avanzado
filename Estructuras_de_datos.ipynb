{
 "cells": [
  {
   "attachments": {},
   "cell_type": "markdown",
   "metadata": {},
   "source": [
    "# Propiedades de las listas, tublas, diccionarios y sets"
   ]
  },
  {
   "cell_type": "code",
   "execution_count": null,
   "metadata": {},
   "outputs": [],
   "source": []
  },
  {
   "attachments": {},
   "cell_type": "markdown",
   "metadata": {},
   "source": [
    "## Como iterar sobre una lista\n",
    "\n",
    "Las listas son estructuras de datos iterables, gracias a esto es posible utilizar instancias como For, o funciones como map, filter, para recorrer modificar o generar nuevas listas."
   ]
  },
  {
   "attachments": {},
   "cell_type": "markdown",
   "metadata": {},
   "source": [
    "### for\n",
    "for es una estructura de control que permite iterar sobre una lista, en cada iteración se asigna a la variable de control el valor de un elemento de la lista.\n",
    "\n",
    "sintaxis:\n",
    "```python\n",
    "for <variable> in <lista>:\n",
    "    <cuerpo>\n",
    "```"
   ]
  },
  {
   "cell_type": "code",
   "execution_count": 2,
   "metadata": {},
   "outputs": [
    {
     "data": {
      "text/plain": [
       "[1, 4, 9, 16, 25, 36, 49, 64, 81]"
      ]
     },
     "execution_count": 2,
     "metadata": {},
     "output_type": "execute_result"
    }
   ],
   "source": [
    "squarer = []\n",
    "for i in range(1, 10):\n",
    "    squarer.append(i**2)\n",
    "squarer"
   ]
  },
  {
   "attachments": {},
   "cell_type": "markdown",
   "metadata": {},
   "source": [
    "### list comprehension\n",
    "\n",
    "Las list comprehension son una forma de generar listas a partir de otras listas, se pueden utilizar para filtrar, modificar o generar nuevas listas.\n",
    "\n",
    "para generar una lista a partir de otra se utiliza la siguiente sintaxis:\n",
    "\n",
    "```python\n",
    "[<expresion> for <elemento> in <lista>]\n",
    "```\n",
    "\n",
    "para generar una lista a partir de otra con un filtro se utiliza la siguiente sintaxis:\n",
    "\n",
    "```python\n",
    "[<expresion> for <elemento> in <lista> if <condicion>]\n",
    "```\n",
    "\n",
    "para modificar una lista se utiliza la siguiente sintaxis:\n",
    "\n",
    "```python\n",
    "[<expresion> if <condicion> else <expresion> for <elemento> in <lista>]\n",
    "```"
   ]
  },
  {
   "cell_type": "code",
   "execution_count": 5,
   "metadata": {},
   "outputs": [
    {
     "data": {
      "text/plain": [
       "[4, 16, 36, 64]"
      ]
     },
     "execution_count": 5,
     "metadata": {},
     "output_type": "execute_result"
    }
   ],
   "source": [
    "[i ** 2 for i in range(1, 10) if i % 2 == 0]"
   ]
  },
  {
   "attachments": {},
   "cell_type": "markdown",
   "metadata": {},
   "source": [
    "### map\n",
    "\n",
    "map es una función que recibe como parámetros una función y un iterable, y retorna un iterable con los resultados de aplicar la función a cada elemento del iterable.\n",
    "\n",
    "se utiliza la siguiente sintaxis:\n",
    "\n",
    "```python\n",
    "map(<funcion>, <iterable>)\n",
    "```"
   ]
  },
  {
   "cell_type": "code",
   "execution_count": 1,
   "metadata": {},
   "outputs": [],
   "source": [
    "txns = [1.09, 23.56, 57.84, 4.56, 6.78]\n",
    "TAX_RATE = .08\n",
    "\n",
    "def get_price_with_tax(txn):\n",
    "    return txn * (1 + TAX_RATE)\n",
    "\n",
    "final_prices = map(get_price_with_tax, txns)"
   ]
  },
  {
   "cell_type": "code",
   "execution_count": 4,
   "metadata": {},
   "outputs": [
    {
     "data": {
      "text/plain": [
       "[1.1772000000000002, 25.4448, 62.467200000000005, 4.9248, 7.322400000000001]"
      ]
     },
     "execution_count": 4,
     "metadata": {},
     "output_type": "execute_result"
    }
   ],
   "source": [
    "list(final_prices)"
   ]
  },
  {
   "attachments": {},
   "cell_type": "markdown",
   "metadata": {},
   "source": [
    "## Como iterar sobre un diccionario\n",
    "Los diccionarios son estructuras de datos iterables, gracias a esto es posible utilizar instancias como For, o funciones como map, filter, para recorrer modificar o generar nuevas listas.\n"
   ]
  },
  {
   "attachments": {},
   "cell_type": "markdown",
   "metadata": {},
   "source": [
    "### for\n",
    "for es una estructura de control que permite iterar sobre un diccionario, en cada iteración se asigna a la variable de control el valor de una llave del diccionario.\n",
    "\n",
    "sintaxis:\n",
    "```python\n",
    "for <variable> in <diccionario>:\n",
    "    <cuerpo>\n",
    "```"
   ]
  },
  {
   "cell_type": "code",
   "execution_count": 6,
   "metadata": {},
   "outputs": [
    {
     "name": "stdout",
     "output_type": "stream",
     "text": [
      "a\n",
      "b\n",
      "c\n"
     ]
    }
   ],
   "source": [
    "dict_a = {'a': 1, 'b': 2, 'c': 3}\n",
    "\n",
    "for key in dict_a:\n",
    "    print(key)"
   ]
  },
  {
   "attachments": {},
   "cell_type": "markdown",
   "metadata": {},
   "source": [
    "### dict comprehension\n",
    "\n",
    "Las dict comprehension son una forma de generar diccionarios a partir de otros diccionarios, se pueden utilizar para filtrar, modificar o generar nuevos diccionarios.\n",
    "\n",
    "para generar un diccionario a partir de otro se utiliza la siguiente sintaxis:\n",
    "\n",
    "```python\n",
    "{<llave>: <valor> for <llave>, <valor> in <diccionario>.items()}\n",
    "```\n",
    "\n",
    "para generar un diccionario a partir de otro con un filtro se utiliza la siguiente sintaxis:\n",
    "\n",
    "```python\n",
    "{<llave>: <valor> for <llave>, <valor> in <diccionario>.items() if <condicion>}\n",
    "```\n",
    "\n",
    "para modificar un diccionario se utiliza la siguiente sintaxis:\n",
    "\n",
    "```python\n",
    "{<llave>: <valor> if <condicion> else <valor> for <llave>, <valor> in <diccionario>.items()}\n",
    "```"
   ]
  },
  {
   "cell_type": "code",
   "execution_count": 7,
   "metadata": {},
   "outputs": [
    {
     "data": {
      "text/plain": [
       "{'c': 9}"
      ]
     },
     "execution_count": 7,
     "metadata": {},
     "output_type": "execute_result"
    }
   ],
   "source": [
    "# filtro \n",
    "dict_comp = {k:v**2 for k,v in dict_a.items() if v > 2}\n",
    "dict_comp"
   ]
  },
  {
   "cell_type": "code",
   "execution_count": 9,
   "metadata": {},
   "outputs": [
    {
     "data": {
      "text/plain": [
       "{'ac': 0, 'bc': 0, 'cc': 9}"
      ]
     },
     "execution_count": 9,
     "metadata": {},
     "output_type": "execute_result"
    }
   ],
   "source": [
    "# modificacion\n",
    "dict_comp = {k + 'c':v**2 if v > 2 else 0 for k,v in dict_a.items()}\n",
    "dict_comp"
   ]
  },
  {
   "cell_type": "code",
   "execution_count": 12,
   "metadata": {},
   "outputs": [
    {
     "data": {
      "text/plain": [
       "{'a': 1, 'b': 4, 'c': 9}"
      ]
     },
     "execution_count": 12,
     "metadata": {},
     "output_type": "execute_result"
    }
   ],
   "source": [
    "# creacion\n",
    "dict_comp = {k:v**2 for k,v in {'a': 1, 'b': 2, 'c': 3}.items()}\n",
    "dict_comp"
   ]
  },
  {
   "attachments": {},
   "cell_type": "markdown",
   "metadata": {},
   "source": [
    "## Sets\n",
    "\n",
    "Los sets tienen las siguientes características:\n",
    "\n",
    "- No tienen orden\n",
    "- No tienen elementos repetidos\n",
    "- No se pueden modificar los elementos\n",
    "\n",
    "### Creación de sets\n",
    "\n",
    "Los sets se pueden crear utilizando la función set() o utilizando llaves {}\n",
    "\n",
    "```python\n",
    "set1 = set()\n",
    "set2 = {1, 2, 3}\n",
    "```"
   ]
  },
  {
   "cell_type": "code",
   "execution_count": null,
   "metadata": {},
   "outputs": [],
   "source": [
    "set_a = set([1, 2, 3, 4, 5])\n",
    "set_string = set('hello')"
   ]
  },
  {
   "attachments": {},
   "cell_type": "markdown",
   "metadata": {},
   "source": [
    "### operaciones con sets\n",
    "\n",
    "Los sets tienen las siguientes operaciones:\n",
    "\n",
    "- union\n",
    "- intersección\n",
    "- diferencia\n",
    "- diferencia simétrica\n",
    "- subconjunto"
   ]
  },
  {
   "cell_type": "code",
   "execution_count": 13,
   "metadata": {},
   "outputs": [
    {
     "name": "stdout",
     "output_type": "stream",
     "text": [
      "{1, 2, 3, 4, 5, 6, 7}\n",
      "{3, 4, 5}\n",
      "{1, 2}\n",
      "{1, 2, 6, 7}\n",
      "False\n"
     ]
    }
   ],
   "source": [
    "set_a = {1, 2, 3, 4, 5}\n",
    "set_b = {3, 4, 5, 6, 7}\n",
    "\n",
    "# union\n",
    "print(set_a | set_b)\n",
    "\n",
    "# interseccion\n",
    "print(set_a & set_b)\n",
    "\n",
    "# diferencia\n",
    "print(set_a - set_b)\n",
    "\n",
    "# diferencia simetrica\n",
    "print(set_a ^ set_b)\n",
    "\n",
    "# subconjunto\n",
    "print(set_a <= set_b)\n"
   ]
  },
  {
   "attachments": {},
   "cell_type": "markdown",
   "metadata": {},
   "source": [
    "### Set comprehensions\n",
    "\n",
    "Las set comprehension nos sirven para generar sets a partir de otros sets, se pueden utilizar para filtrar, modificar o generar nuevos sets.\n",
    "\n",
    "para generar un set a partir de otro se utiliza la siguiente sintaxis:\n",
    "\n",
    "```python\n",
    "{<elemento> for <elemento> in <set>}\n",
    "```"
   ]
  },
  {
   "cell_type": "code",
   "execution_count": 15,
   "metadata": {},
   "outputs": [
    {
     "data": {
      "text/plain": [
       "{0, 1, 4, 9, 16, 25, 36, 49, 64, 81}"
      ]
     },
     "execution_count": 15,
     "metadata": {},
     "output_type": "execute_result"
    }
   ],
   "source": [
    "set_comprenhension = {i**2 for i in range(10)}\n",
    "set_comprenhension"
   ]
  },
  {
   "attachments": {},
   "cell_type": "markdown",
   "metadata": {},
   "source": [
    "# Iteradores e Iterables"
   ]
  },
  {
   "attachments": {},
   "cell_type": "markdown",
   "metadata": {},
   "source": [
    "## Iteradores\n",
    "\n",
    "Los iteradores son objetos que permiten recorrer un iterable, los iteradores tienen métodos:\n",
    "\n",
    "- \\_\\_iter\\_\\_: retorna el iterador\n",
    "- \\_\\_next\\_\\_: retorna el siguiente elemento del iterable"
   ]
  },
  {
   "attachments": {},
   "cell_type": "markdown",
   "metadata": {},
   "source": [
    "### Creación de iteradores\n",
    "\n",
    "Los iteradores se pueden crear utilizando la función iter()\n",
    "\n",
    "```python\n",
    "iterador = iter(<iterable>)\n"
   ]
  },
  {
   "cell_type": "code",
   "execution_count": 16,
   "metadata": {},
   "outputs": [],
   "source": [
    "# iterador fibonacci\n",
    "class Fib:\n",
    "    def __init__(self, stop = 10):\n",
    "        s\n",
    "        "
   ]
  },
  {
   "attachments": {},
   "cell_type": "markdown",
   "metadata": {},
   "source": [
    "## Generadores\n",
    "\n",
    "Los generadores son funciones que retornan un iterador, los generadores se pueden crear utilizando la palabra reservada yield.\n",
    "\n",
    "```python\n",
    "def generator_function(sequence):\n",
    "    for element in sequence:\n",
    "        yield element\n",
    "```"
   ]
  },
  {
   "cell_type": "code",
   "execution_count": null,
   "metadata": {},
   "outputs": [],
   "source": []
  }
 ],
 "metadata": {
  "kernelspec": {
   "display_name": "env",
   "language": "python",
   "name": "python3"
  },
  "language_info": {
   "codemirror_mode": {
    "name": "ipython",
    "version": 3
   },
   "file_extension": ".py",
   "mimetype": "text/x-python",
   "name": "python",
   "nbconvert_exporter": "python",
   "pygments_lexer": "ipython3",
   "version": "3.10.6"
  },
  "orig_nbformat": 4
 },
 "nbformat": 4,
 "nbformat_minor": 2
}
